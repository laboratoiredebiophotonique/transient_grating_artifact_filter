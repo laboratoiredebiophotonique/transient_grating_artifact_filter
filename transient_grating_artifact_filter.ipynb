{
 "cells": [
  {
   "cell_type": "markdown",
   "id": "74c56202",
   "metadata": {
    "collapsed": false,
    "jupyter": {
     "outputs_hidden": false
    }
   },
   "source": [
    "# Transient gradient artifact filtering in the Fourier domain on 2D time-resolved spectroscopy map"
   ]
  },
  {
   "cell_type": "markdown",
   "id": "4d44fd27",
   "metadata": {
    "collapsed": false,
    "jupyter": {
     "outputs_hidden": false
    }
   },
   "source": [
    "# Licence\n",
    "MIT license"
   ]
  },
  {
   "cell_type": "markdown",
   "id": "2fe7d54c",
   "metadata": {
    "collapsed": false,
    "jupyter": {
     "outputs_hidden": false
    }
   },
   "source": [
    "# Credit\n",
    "M. Vega, J-F. Bryche, P.L. Karsenti, P. Gogol, G. Beaudin, M. Canva, P.G. Charette\n",
    "\n",
    "- Laboratoire Nanotechnologies et Nanosystèmes (LN2)\n",
    "\n",
    "- Laboratoire Charles Fabry (LCF)\n",
    "\n",
    "- Institut Interdisciplinaire d'Innovation Technologique (3iT) \n",
    "\n",
    "- Centre de Nanosciences et de Nanotechnologies (C2N)\n",
    "\n",
    "- Centre National de la Recherce Scientifique (CNRS)\n",
    "\n",
    "- Université de Sherbrooke (UdS)\n",
    "\n",
    "- Université Paris-Saclay "
   ]
  },
  {
   "cell_type": "markdown",
   "id": "c0a9f32c",
   "metadata": {
    "collapsed": false,
    "jupyter": {
     "outputs_hidden": false
    }
   },
   "source": [
    "# Package requirements and information\n",
    "See the `README.md` and `requirements.txt` files in the project root directory"
   ]
  },
  {
   "cell_type": "code",
   "execution_count": null,
   "id": "616a9201-050b-420f-9f41-d76a3cce40e1",
   "metadata": {},
   "outputs": [],
   "source": [
    "import matplotlib.pyplot as plt\n",
    "from transient_grating_artifact_filter import transient_grating_artifact_filter"
   ]
  },
  {
   "cell_type": "markdown",
   "id": "5d653834-13b9-4772-8d77-f80ad7166e43",
   "metadata": {},
   "source": [
    "# Matplotlib initializations"
   ]
  },
  {
   "cell_type": "code",
   "execution_count": null,
   "id": "e123f0de-9674-47c2-89b9-443c3d842d92",
   "metadata": {},
   "outputs": [],
   "source": [
    "plt.rcParams.update(\n",
    "    {\n",
    "        \"figure.dpi\": 200,\n",
    "        \"figure.figsize\": [10, 5],\n",
    "        \"font.size\": 6,\n",
    "        \"lines.linewidth\": 0.5,\n",
    "        \"axes.linewidth\": 0.5,\n",
    "        \"image.cmap\": \"coolwarm\",\n",
    "    },\n",
    ")"
   ]
  },
  {
   "cell_type": "markdown",
   "id": "a367b72f-a6bf-4d01-a657-cdb941f1e952",
   "metadata": {},
   "source": [
    "# Load experimental data\n",
    "Example data files in \".mat\" (Matlab) and \".xlsx\" (Excel) file formats are available in the *data* sub-directory"
   ]
  },
  {
   "cell_type": "code",
   "execution_count": null,
   "id": "63c6bed1-4d97-4ac3-a83d-a21bc33874e2",
   "metadata": {},
   "outputs": [],
   "source": [
    "# Choice of sample to simulate: \"gold_film\", \"nano_crosses\", \"nano_rods\", or \"rhodamine\"\n",
    "substrate_type: str = \"rhodamine\"\n",
    "\n",
    "# Define simulation parameters for the selected sample\n",
    "if substrate_type == \"gold_film\":\n",
    "    # Unstructured (smooth) gold film\n",
    "    fname: str = \"Unstructured-metal-parallel-pol.mat\"\n",
    "    lambda0_pump: float = 600.0\n",
    "    artifact_extent_λ: float = 26\n",
    "    artifact_extent_t: float = 0.35\n",
    "\n",
    "elif substrate_type == \"nano_crosses\":\n",
    "    # Structured gold film (nano-crosses)\n",
    "    fname = \"Nano-crosses.mat\"\n",
    "    lambda0_pump = 670.0\n",
    "    artifact_extent_λ = 26\n",
    "    artifact_extent_t = 0.35\n",
    "\n",
    "elif substrate_type == \"nano_rods\":\n",
    "    # Structured gold film (nano-rods)\n",
    "    fname = \"Nano-rods.mat\"\n",
    "    lambda0_pump = 600.0\n",
    "    artifact_extent_λ = 25\n",
    "    artifact_extent_t = 0.47\n",
    "\n",
    "elif substrate_type == \"rhodamine\":\n",
    "    # Rhodamine solution atop unstructured gold film\n",
    "    fname = \"Rhodamine.mat\"\n",
    "    lambda0_pump = 570.0\n",
    "    artifact_extent_λ = 22\n",
    "    artifact_extent_t = 0.55\n",
    "    lambda_time_profile: float = 566.74\n",
    "\n",
    "else:\n",
    "    raise ValueError(\"Unknown substrate type!\")\n"
   ]
  },
  {
   "cell_type": "markdown",
   "id": "90b9b0bd-890d-471c-9d79-3ab2f20ad8ad",
   "metadata": {},
   "source": [
    "# Parameters"
   ]
  },
  {
   "cell_type": "code",
   "execution_count": null,
   "id": "7c330f6c-507f-4f0b-afdd-f6681a741d0c",
   "metadata": {},
   "outputs": [],
   "source": [
    "# Thresholds for filter construction\n",
    "threshold_ellipse: float = 0.1\n",
    "threshold_cutout: float = 0.5\n",
    "\n",
    "# Optional parameters\n",
    "lambda_time_profile: float = 0\n",
    "cross_pass_band_width: int = 0\n",
    "pass_upper_left_lower_right_quadrants: bool = True"
   ]
  },
  {
   "cell_type": "code",
   "execution_count": null,
   "id": "78f58073",
   "metadata": {
    "collapsed": false,
    "jupyter": {
     "outputs_hidden": false
    }
   },
   "outputs": [],
   "source": [
    "# Run the simulation\n",
    "result = transient_grating_artifact_filter(\n",
    "    fname=fname,\n",
    "    lambda0_pump=lambda0_pump,\n",
    "    artifact_extent_lambda=artifact_extent_λ,\n",
    "    artifact_extent_t=artifact_extent_t,\n",
    "    threshold_ellipse=threshold_ellipse,\n",
    "    threshold_cutout=threshold_cutout,\n",
    "    lambda_time_profile=lambda_time_profile,\n",
    "    cross_pass_band_width=cross_pass_band_width,\n",
    "    pass_upper_left_lower_right_quadrants=pass_upper_left_lower_right_quadrants,\n",
    ")"
   ]
  },
  {
   "cell_type": "code",
   "execution_count": null,
   "id": "52b28e57-ae8d-44bc-a61a-665b76dffa44",
   "metadata": {},
   "outputs": [],
   "source": []
  }
 ],
 "metadata": {
  "kernelspec": {
   "display_name": "Python 3 (ipykernel)",
   "language": "python",
   "name": "python3"
  },
  "language_info": {
   "codemirror_mode": {
    "name": "ipython",
    "version": 3
   },
   "file_extension": ".py",
   "mimetype": "text/x-python",
   "name": "python",
   "nbconvert_exporter": "python",
   "pygments_lexer": "ipython3",
   "version": "3.11.4"
  }
 },
 "nbformat": 4,
 "nbformat_minor": 5
}
